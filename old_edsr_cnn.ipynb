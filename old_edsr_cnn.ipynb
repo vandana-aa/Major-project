{
  "cells": [
    {
      "cell_type": "code",
      "source": [
        "import cv2\n",
        "import os\n",
        "import numpy as np\n",
        "import shutil\n",
        "from google.colab import drive\n",
        "from tqdm import tqdm  # For progress bar\n",
        "\n",
        "# Step 1: Mount Google Drive\n",
        "drive.mount('/content/drive')\n",
        "\n",
        "# Step 2: Define paths\n",
        "dataset_path = \"/content/drive/MyDrive/total_dataset/\"  # Original dataset path\n",
        "output_path = \"/content/drive/MyDrive/h10_denoised_dataset/\"  # Folder to save denoised images\n",
        "\n",
        "# Create the output directory if it doesn't exist\n",
        "if os.path.exists(output_path):\n",
        "    shutil.rmtree(output_path)  # Delete old output folder if it exists\n",
        "os.makedirs(output_path)\n",
        "\n",
        "# Step 3: Get all image files in the dataset folder\n",
        "image_files = [f for f in os.listdir(dataset_path) if f.lower().endswith(('.png', '.jpg', '.jpeg', '.tif'))]\n",
        "\n",
        "# Step 4: Apply Denoising and Save Images\n",
        "for img_name in tqdm(image_files, desc=\"Denoising Images\", unit=\"image\"):\n",
        "    img_path = os.path.join(dataset_path, img_name)\n",
        "\n",
        "    # Read the image in grayscale mode\n",
        "    img = cv2.imread(img_path, cv2.IMREAD_GRAYSCALE)\n",
        "\n",
        "    if img is None:\n",
        "        print(f\"Skipping {img_name}, could not read file.\")\n",
        "        continue\n",
        "\n",
        "    # Apply Non-Local Means Denoising\n",
        "    denoised_img = cv2.fastNlMeansDenoising(img, None, h=10, templateWindowSize=7, searchWindowSize=21)\n",
        "\n",
        "    # Save the denoised image\n",
        "    save_path = os.path.join(output_path, img_name)\n",
        "    cv2.imwrite(save_path, denoised_img)\n",
        "\n",
        "print(f\"✅ Denoising complete! Denoised images are saved in: {output_path}\")\n"
      ],
      "metadata": {
        "colab": {
          "base_uri": "https://localhost:8080/"
        },
        "id": "3caOBPP9JFov",
        "outputId": "581ed111-55eb-4f78-e95b-676a3e044a27"
      },
      "execution_count": null,
      "outputs": [
        {
          "output_type": "stream",
          "name": "stdout",
          "text": [
            "Mounted at /content/drive\n"
          ]
        },
        {
          "output_type": "stream",
          "name": "stderr",
          "text": [
            "Denoising Images: 100%|██████████| 200/200 [01:40<00:00,  1.99image/s]"
          ]
        },
        {
          "output_type": "stream",
          "name": "stdout",
          "text": [
            "✅ Denoising complete! Denoised images are saved in: /content/drive/MyDrive/denoised_dataset/\n"
          ]
        },
        {
          "output_type": "stream",
          "name": "stderr",
          "text": [
            "\n"
          ]
        }
      ]
    },
    {
      "cell_type": "code",
      "source": [
        "import cv2\n",
        "import os\n",
        "import numpy as np\n",
        "import shutil\n",
        "from skimage.metrics import structural_similarity as ssim\n",
        "from google.colab import drive\n",
        "from tqdm import tqdm  # For progress bar\n",
        "\n",
        "# Step 1: Mount Google Drive\n",
        "drive.mount('/content/drive')\n",
        "\n",
        "# Step 2: Define paths\n",
        "dataset_path = \"/content/drive/MyDrive/total_dataset/\"  # Original dataset path\n",
        "output_path = \"/content/drive/MyDrive/h10_denoised_dataset/\"  # Folder to save denoised images\n",
        "\n",
        "# Create the output directory if it doesn't exist\n",
        "if os.path.exists(output_path):\n",
        "    shutil.rmtree(output_path)  # Delete old output folder if it exists\n",
        "os.makedirs(output_path)\n",
        "\n",
        "# Step 3: Get all image files in the dataset folder\n",
        "image_files = [f for f in os.listdir(dataset_path) if f.lower().endswith(('.png', '.jpg', '.jpeg', '.tif'))]\n",
        "\n",
        "# Initialize lists to store PSNR and SSIM values\n",
        "psnr_values = []\n",
        "ssim_values = []\n",
        "\n",
        "# Step 4: Apply Denoising and Save Images\n",
        "for img_name in tqdm(image_files, desc=\"Denoising Images\", unit=\"image\"):\n",
        "    img_path = os.path.join(dataset_path, img_name)\n",
        "\n",
        "    # Read the image in grayscale mode\n",
        "    img = cv2.imread(img_path, cv2.IMREAD_GRAYSCALE)\n",
        "\n",
        "    if img is None:\n",
        "        print(f\"Skipping {img_name}, could not read file.\")\n",
        "        continue\n",
        "\n",
        "    # Apply Non-Local Means Denoising\n",
        "    denoised_img = cv2.fastNlMeansDenoising(img, None, h=10, templateWindowSize=7, searchWindowSize=21)\n",
        "\n",
        "    # Save the denoised image\n",
        "    save_path = os.path.join(output_path, img_name)\n",
        "    cv2.imwrite(save_path, denoised_img)\n",
        "\n",
        "    # Step 5: Compute PSNR and SSIM\n",
        "    def calculate_psnr(original, denoised):\n",
        "        mse = np.mean((original - denoised) ** 2)\n",
        "        if mse == 0:\n",
        "            return float('inf')  # Perfect match\n",
        "        max_pixel = 255.0\n",
        "        return 20 * np.log10(max_pixel / np.sqrt(mse))\n",
        "\n",
        "    def calculate_ssim(original, denoised):\n",
        "        return ssim(original, denoised, data_range=denoised.max() - denoised.min())\n",
        "\n",
        "    psnr_value = calculate_psnr(img, denoised_img)\n",
        "    ssim_value = calculate_ssim(img, denoised_img)\n",
        "\n",
        "    psnr_values.append(psnr_value)\n",
        "    ssim_values.append(ssim_value)\n",
        "\n",
        "# Step 6: Compute and display the average PSNR and SSIM values\n",
        "avg_psnr = sum(psnr_values) / len(psnr_values) if psnr_values else 0\n",
        "avg_ssim = sum(ssim_values) / len(ssim_values) if ssim_values else 0\n",
        "\n",
        "print(f\"✅ Denoising complete! Denoised images are saved in: {output_path}\")\n",
        "print(f\"📊 Average PSNR: {avg_psnr:.2f} dB\")\n",
        "print(f\"📊 Average SSIM: {avg_ssim:.4f}\")\n"
      ],
      "metadata": {
        "id": "5kpE-W18NxaX",
        "colab": {
          "base_uri": "https://localhost:8080/"
        },
        "outputId": "1c5b5f51-d435-4ff6-e26c-09dafc2259b3"
      },
      "execution_count": null,
      "outputs": [
        {
          "output_type": "stream",
          "name": "stdout",
          "text": [
            "Mounted at /content/drive\n"
          ]
        },
        {
          "output_type": "stream",
          "name": "stderr",
          "text": [
            "Denoising Images: 100%|██████████| 200/200 [01:00<00:00,  3.29image/s]"
          ]
        },
        {
          "output_type": "stream",
          "name": "stdout",
          "text": [
            "✅ Denoising complete! Denoised images are saved in: /content/drive/MyDrive/h10_denoised_dataset/\n",
            "📊 Average PSNR: 44.67 dB\n",
            "📊 Average SSIM: 0.9859\n"
          ]
        },
        {
          "output_type": "stream",
          "name": "stderr",
          "text": [
            "\n"
          ]
        }
      ]
    },
    {
      "cell_type": "code",
      "source": [
        "import cv2\n",
        "import os\n",
        "import numpy as np\n",
        "import shutil\n",
        "from skimage.metrics import structural_similarity as ssim\n",
        "from google.colab import drive\n",
        "from tqdm import tqdm  # For progress bar\n",
        "\n",
        "# Step 1: Mount Google Drive\n",
        "drive.mount('/content/drive')\n",
        "\n",
        "# Step 2: Define paths\n",
        "dataset_path = \"/content/drive/MyDrive/total_dataset/\"  # Original dataset path\n",
        "output_path = \"/content/drive/MyDrive/h15_denoised_dataset/\"  # Folder to save denoised images\n",
        "\n",
        "# Create the output directory if it doesn't exist\n",
        "if os.path.exists(output_path):\n",
        "    shutil.rmtree(output_path)  # Delete old output folder if it exists\n",
        "os.makedirs(output_path)\n",
        "\n",
        "# Step 3: Get all image files in the dataset folder\n",
        "image_files = [f for f in os.listdir(dataset_path) if f.lower().endswith(('.png', '.jpg', '.jpeg', '.tif'))]\n",
        "\n",
        "# Initialize lists to store PSNR and SSIM values\n",
        "psnr_values = []\n",
        "ssim_values = []\n",
        "\n",
        "# Step 4: Apply Denoising and Save Images\n",
        "for img_name in tqdm(image_files, desc=\"Denoising Images\", unit=\"image\"):\n",
        "    img_path = os.path.join(dataset_path, img_name)\n",
        "\n",
        "    # Read the image in grayscale mode\n",
        "    img = cv2.imread(img_path, cv2.IMREAD_GRAYSCALE)\n",
        "\n",
        "    if img is None:\n",
        "        print(f\"Skipping {img_name}, could not read file.\")\n",
        "        continue\n",
        "\n",
        "    # Apply Non-Local Means Denoising\n",
        "    denoised_img = cv2.fastNlMeansDenoising(img, None, h=8, templateWindowSize=7, searchWindowSize=21)\n",
        "\n",
        "    # Save the denoised image\n",
        "    save_path = os.path.join(output_path, img_name)\n",
        "    cv2.imwrite(save_path, denoised_img)\n",
        "\n",
        "    # Step 5: Compute PSNR and SSIM\n",
        "    def calculate_psnr(original, denoised):\n",
        "        mse = np.mean((original - denoised) ** 2)\n",
        "        if mse == 0:\n",
        "            return float('inf')  # Perfect match\n",
        "        max_pixel = 255.0\n",
        "        return 20 * np.log10(max_pixel / np.sqrt(mse))\n",
        "\n",
        "    def calculate_ssim(original, denoised):\n",
        "        return ssim(original, denoised, data_range=denoised.max() - denoised.min())\n",
        "\n",
        "    psnr_value = calculate_psnr(img, denoised_img)\n",
        "    ssim_value = calculate_ssim(img, denoised_img)\n",
        "\n",
        "    psnr_values.append(psnr_value)\n",
        "    ssim_values.append(ssim_value)\n",
        "\n",
        "# Step 6: Compute and display the average PSNR and SSIM values\n",
        "avg_psnr = sum(psnr_values) / len(psnr_values) if psnr_values else 0\n",
        "avg_ssim = sum(ssim_values) / len(ssim_values) if ssim_values else 0\n",
        "\n",
        "print(f\"✅ Denoising complete! Denoised images are saved in: {output_path}\")\n",
        "print(f\"📊 Average PSNR: {avg_psnr:.2f} dB\")\n",
        "print(f\"📊 Average SSIM: {avg_ssim:.4f}\")\n"
      ],
      "metadata": {
        "colab": {
          "base_uri": "https://localhost:8080/"
        },
        "id": "eR7D28y5kkId",
        "outputId": "346d2065-2cb6-4ff2-8c0e-11ac2cd0b6c6"
      },
      "execution_count": null,
      "outputs": [
        {
          "output_type": "stream",
          "name": "stdout",
          "text": [
            "Drive already mounted at /content/drive; to attempt to forcibly remount, call drive.mount(\"/content/drive\", force_remount=True).\n"
          ]
        },
        {
          "output_type": "stream",
          "name": "stderr",
          "text": [
            "Denoising Images: 100%|██████████| 200/200 [00:57<00:00,  3.50image/s]"
          ]
        },
        {
          "output_type": "stream",
          "name": "stdout",
          "text": [
            "✅ Denoising complete! Denoised images are saved in: /content/drive/MyDrive/h15_denoised_dataset/\n",
            "📊 Average PSNR: 45.60 dB\n",
            "📊 Average SSIM: 0.9874\n"
          ]
        },
        {
          "output_type": "stream",
          "name": "stderr",
          "text": [
            "\n"
          ]
        }
      ]
    }
  ],
  "metadata": {
    "colab": {
      "provenance": []
    },
    "kernelspec": {
      "display_name": "Python 3",
      "name": "python3"
    },
    "language_info": {
      "name": "python"
    }
  },
  "nbformat": 4,
  "nbformat_minor": 0
}
